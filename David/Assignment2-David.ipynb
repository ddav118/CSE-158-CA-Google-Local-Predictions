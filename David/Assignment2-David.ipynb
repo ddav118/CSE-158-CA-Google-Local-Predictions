{
 "cells": [
  {
   "cell_type": "markdown",
   "metadata": {},
   "source": [
    "filtered data: https://jmcauley.ucsd.edu/data/googlelocal/kcore/"
   ]
  },
  {
   "cell_type": "code",
   "execution_count": 36,
   "metadata": {},
   "outputs": [],
   "source": [
    "import gzip\n",
    "from collections import defaultdict\n",
    "import datetime\n",
    "import dateutil\n",
    "import time\n",
    "import matplotlib.pyplot as plt"
   ]
  },
  {
   "cell_type": "code",
   "execution_count": 5,
   "metadata": {},
   "outputs": [],
   "source": [
    "path = 'C:/Users/vdavila/Documents/GitHub/CSE-158---CA-Google-Local-Predictions/'"
   ]
  },
  {
   "cell_type": "code",
   "execution_count": 3,
   "metadata": {},
   "outputs": [],
   "source": [
    "def parseData(fname):\n",
    "    for l in gzip.open(fname):\n",
    "        d = eval(l)\n",
    "        yield d"
   ]
  },
  {
   "cell_type": "code",
   "execution_count": 6,
   "metadata": {},
   "outputs": [],
   "source": [
    "#filtering out users with <5 interactions\n",
    "data_CA5 = list(parseData(path+\"CA_5.json.gz\"))"
   ]
  },
  {
   "cell_type": "code",
   "execution_count": 7,
   "metadata": {},
   "outputs": [
    {
     "data": {
      "text/plain": [
       "{'rating': 4.0,\n",
       " 'reviewerName': 'Mary Gainza',\n",
       " 'reviewText': 'Gap always has a jean that fits awesomely, i wish their prices were a bit competitive in comparison to their outlets, also the amount of the pieces they have in store sometimes fly so quick that is hard to find an specific size with their best sellers, but in general i really like this store and most of their products.',\n",
       " 'categories': ['Clothing Store',\n",
       "  \"Women's Clothing Store\",\n",
       "  \"Children's Clothing Store\"],\n",
       " 'gPlusPlaceId': '100556368174926958612',\n",
       " 'unixReviewTime': 1355436757,\n",
       " 'reviewTime': 'Dec 13, 2012',\n",
       " 'gPlusUserId': '100000715097692381911'}"
      ]
     },
     "execution_count": 7,
     "metadata": {},
     "output_type": "execute_result"
    }
   ],
   "source": [
    "data_CA5[0]"
   ]
  },
  {
   "cell_type": "code",
   "execution_count": 8,
   "metadata": {},
   "outputs": [],
   "source": [
    "# filtering out users with <10 interactions, subset of CA_5\n",
    "# only users with 10 or more interactions\n",
    "data_CA10 = list(parseData(path+'CA_10.json.gz'))"
   ]
  },
  {
   "cell_type": "code",
   "execution_count": 9,
   "metadata": {},
   "outputs": [
    {
     "data": {
      "text/plain": [
       "{'rating': 4.0,\n",
       " 'reviewerName': 'Rick Casady',\n",
       " 'reviewText': None,\n",
       " 'categories': ['Sushi Restaurant', 'Asian Restaurant', 'Japanese Restaurant'],\n",
       " 'gPlusPlaceId': '100539657974695665920',\n",
       " 'unixReviewTime': 1302881457,\n",
       " 'reviewTime': 'Apr 15, 2011',\n",
       " 'gPlusUserId': '100003840837471130074'}"
      ]
     },
     "execution_count": 9,
     "metadata": {},
     "output_type": "execute_result"
    }
   ],
   "source": [
    "data_CA10[0]"
   ]
  },
  {
   "cell_type": "code",
   "execution_count": 10,
   "metadata": {},
   "outputs": [],
   "source": [
    "places_CA = list(parseData(path+'places_CA.json.gz'))"
   ]
  },
  {
   "cell_type": "code",
   "execution_count": 12,
   "metadata": {},
   "outputs": [],
   "source": [
    "#reviews_CA = list(parseData(path+'reviews_CA.json.gz'))"
   ]
  },
  {
   "cell_type": "code",
   "execution_count": 13,
   "metadata": {},
   "outputs": [
    {
     "name": "stdout",
     "output_type": "stream",
     "text": [
      "163408 76967 171271\n"
     ]
    }
   ],
   "source": [
    "print(len(data_CA5),len(data_CA10),len(places_CA))"
   ]
  },
  {
   "cell_type": "code",
   "execution_count": 14,
   "metadata": {},
   "outputs": [
    {
     "data": {
      "text/plain": [
       "{'name': 'Diamond Valley Lake Marina',\n",
       " 'price': None,\n",
       " 'address': ['2615 Angler Ave', 'Hemet, CA 92545'],\n",
       " 'hours': [['Monday', [['6:30 am--4:15 pm']]],\n",
       "  ['Tuesday', [['6:30 am--4:15 pm']]],\n",
       "  ['Wednesday', [['6:30 am--4:15 pm']], 1],\n",
       "  ['Thursday', [['6:30 am--4:15 pm']]],\n",
       "  ['Friday', [['6:30 am--4:15 pm']]],\n",
       "  ['Saturday', [['6:30 am--4:15 pm']]],\n",
       "  ['Sunday', [['6:30 am--4:15 pm']]]],\n",
       " 'phone': '(951) 926-7201',\n",
       " 'closed': False,\n",
       " 'gPlusPlaceId': '104699454385822125632',\n",
       " 'gps': [33.703804, -117.003209]}"
      ]
     },
     "execution_count": 14,
     "metadata": {},
     "output_type": "execute_result"
    }
   ],
   "source": [
    "places_CA[0]"
   ]
  },
  {
   "cell_type": "code",
   "execution_count": 35,
   "metadata": {},
   "outputs": [
    {
     "data": {
      "text/plain": [
       "{'', '$', '$$', '$$$', None}"
      ]
     },
     "execution_count": 35,
     "metadata": {},
     "output_type": "execute_result"
    }
   ],
   "source": [
    "count = set()\n",
    "count1 = 0\n",
    "count2 = 0\n",
    "count3 = 0\n",
    "count4 = 0\n",
    "count5 = 0\n",
    "for i in places_CA:\n",
    "    count.add(i['price'])\n",
    "    if i['price'] == '':\n",
    "        count1 +=1\n",
    "    if i['price'] == None:\n",
    "        count2 +=1\n",
    "    if i['price'] == '$':\n",
    "        count3 +=1\n",
    "    if i['price'] == '$$':\n",
    "        count4 +=1\n",
    "    if i['price'] == '$$$':\n",
    "        count5 +=1\n",
    "count"
   ]
  },
  {
   "cell_type": "code",
   "execution_count": 36,
   "metadata": {},
   "outputs": [
    {
     "data": {
      "text/plain": [
       "[197, 124356, 2068, 23954, 20696]"
      ]
     },
     "execution_count": 36,
     "metadata": {},
     "output_type": "execute_result"
    }
   ],
   "source": [
    "[count1,count2,count3,count4,count5]"
   ]
  },
  {
   "cell_type": "markdown",
   "metadata": {},
   "source": [
    "**EDA**<br />\n",
    "1) distribution of reviews across time of day (David)<br />\n",
    "2) categories for businesses (Andrew)<br />\n",
    "3) distribution across years/months (David)<br />\n",
    "4) distribution of words in review (Andrew)<br />\n",
    "5) (Maricela) come up with something else?"
   ]
  },
  {
   "cell_type": "code",
   "execution_count": 24,
   "metadata": {},
   "outputs": [
    {
     "name": "stdout",
     "output_type": "stream",
     "text": [
      "5280 {None}\n"
     ]
    }
   ],
   "source": [
    "count = 0\n",
    "lst = set()\n",
    "for d in data_CA10:\n",
    "    if type(d['unixReviewTime']) != int:\n",
    "        count +=1\n",
    "        lst.add(d['unixReviewTime'])\n",
    "print(count,lst)"
   ]
  },
  {
   "cell_type": "code",
   "execution_count": 26,
   "metadata": {},
   "outputs": [
    {
     "data": {
      "text/plain": [
       "150159"
      ]
     },
     "execution_count": 26,
     "metadata": {},
     "output_type": "execute_result"
    }
   ],
   "source": [
    "# might need to remove missing datetimes for the entire analysis: \n",
    "# 13,249 missing datetimes in data_CA5\n",
    "# 5,280 missing datetimes in data_CA10\n",
    "ratingsTime_5 = []\n",
    "for d in data_CA5:\n",
    "    if d['unixReviewTime'] != None:\n",
    "        t = datetime.datetime.fromtimestamp(d['unixReviewTime'])\n",
    "        ratingsTime_5.append((t,d['rating']))\n",
    "ratingsTime_5.sort()\n",
    "len(ratingsTime_5)"
   ]
  },
  {
   "cell_type": "code",
   "execution_count": 39,
   "metadata": {},
   "outputs": [
    {
     "data": {
      "text/plain": [
       "(datetime.datetime(2014, 3, 27, 7, 47, 47), 5.0)"
      ]
     },
     "execution_count": 39,
     "metadata": {},
     "output_type": "execute_result"
    }
   ],
   "source": [
    "ratingsTime_5[-1]"
   ]
  },
  {
   "cell_type": "code",
   "execution_count": 30,
   "metadata": {},
   "outputs": [],
   "source": [
    "wSize = 1000\n",
    "x = [r[0] for r in ratingsTime_5] # as raw times\n",
    "y = [r[1] for r in ratingsTime_5] # ratings\n",
    "xu = [time.mktime(d.timetuple()) for d in x] # as unix times"
   ]
  },
  {
   "cell_type": "code",
   "execution_count": 31,
   "metadata": {},
   "outputs": [],
   "source": [
    "xSum = sum(xu[:wSize])\n",
    "ySum = sum(y[:wSize])\n",
    "sliding = []"
   ]
  },
  {
   "cell_type": "code",
   "execution_count": 32,
   "metadata": {},
   "outputs": [],
   "source": [
    "for i in range(wSize,len(x)-1):\n",
    "    xSum += xu[i] - xu[i-wSize]\n",
    "    ySum += y[i] - y[i-wSize]\n",
    "    sliding.append((xSum*1.0/wSize,ySum*1.0/wSize))"
   ]
  },
  {
   "cell_type": "code",
   "execution_count": 33,
   "metadata": {},
   "outputs": [],
   "source": [
    "X = [a[0] for a in sliding]\n",
    "Y = [a[1] for a in sliding]"
   ]
  },
  {
   "cell_type": "code",
   "execution_count": 47,
   "metadata": {},
   "outputs": [
    {
     "data": {
      "image/png": "[encoded data removed]",
      "text/plain": [
       "<Figure size 432x288 with 1 Axes>"
      ]
     },
     "metadata": {
      "needs_background": "light"
     },
     "output_type": "display_data"
    }
   ],
   "source": [
    "plt.plot(X[::1000],Y[::1000], label=\"5000 rating window\", color='k')\n",
    "plt.xticks([X[100], X[-350]], [x[wSize+600].strftime(\"%d/%m/%Y\"), x[-350].strftime(\"%d/%m/%Y\")])\n",
    "plt.xlim(X[0], X[-1])\n",
    "plt.ylabel(\"Rating\")\n",
    "plt.xlabel(\"Date\")\n",
    "plt.legend(loc=\"best\",fontsize=8)\n",
    "plt.title(\"Ratings over time (sliding windows)\")\n",
    "plt.show()"
   ]
  },
  {
   "cell_type": "code",
   "execution_count": null,
   "metadata": {},
   "outputs": [],
   "source": []
  },
  {
   "cell_type": "markdown",
   "metadata": {},
   "source": [
    "**Baseline Model**: Predict the average every time and compute MSE [with and without rounding] (Andrew)<br /> \n",
    "**Ablation Experiment**: to determine feature importance<br />\n",
    "    or Principal Component Analysis<br />\n",
    "Look at Prof's paper from this dataset"
   ]
  },
  {
   "cell_type": "markdown",
   "metadata": {},
   "source": [
    "Random Ideas:\n",
    "1) Naive Bayes?"
   ]
  },
  {
   "cell_type": "markdown",
   "metadata": {},
   "source": [
    "**Location Based Social Networks?**<br />\n",
    "(David)"
   ]
  },
  {
   "cell_type": "code",
   "execution_count": null,
   "metadata": {},
   "outputs": [],
   "source": []
  },
  {
   "cell_type": "markdown",
   "metadata": {},
   "source": [
    "**Temporal Dynamics**<br />\n",
    "(David)<br />\n",
    "Tensorflow FPMC model"
   ]
  },
  {
   "cell_type": "code",
   "execution_count": null,
   "metadata": {},
   "outputs": [],
   "source": []
  },
  {
   "cell_type": "markdown",
   "metadata": {},
   "source": [
    "**Price?**<br />\n",
    "(Andrew)<br />\n",
    "One-Hot Encoding"
   ]
  },
  {
   "cell_type": "code",
   "execution_count": null,
   "metadata": {},
   "outputs": [],
   "source": []
  },
  {
   "cell_type": "markdown",
   "metadata": {},
   "source": [
    "**Text Analysis?**<br />\n",
    "(Maricela)<br />\n",
    "TfIdf?"
   ]
  },
  {
   "cell_type": "code",
   "execution_count": null,
   "metadata": {},
   "outputs": [],
   "source": []
  },
  {
   "cell_type": "markdown",
   "metadata": {},
   "source": [
    "**Cosine Feature**<br />\n",
    "(Andrew)"
   ]
  },
  {
   "cell_type": "code",
   "execution_count": null,
   "metadata": {},
   "outputs": [],
   "source": []
  },
  {
   "cell_type": "code",
   "execution_count": null,
   "metadata": {},
   "outputs": [],
   "source": [
    "#Train-Validation-Validation (65%-20%-15%)\n",
    "#compare MSE, look into F1?, or other model measurements"
   ]
  },
  {
   "cell_type": "markdown",
   "metadata": {},
   "source": [
    "Linear Regression Model<br />\n",
    "Decision Tree Regression/Classification<br />\n",
    "SVD<br />\n",
    "K-Nearest Neighbors<br />\n",
    "Other Models?"
   ]
  },
  {
   "cell_type": "markdown",
   "metadata": {},
   "source": [
    "Evaluating Overfitting<br />\n",
    "test on both CA_5 and CA_10"
   ]
  },
  {
   "cell_type": "code",
   "execution_count": null,
   "metadata": {},
   "outputs": [],
   "source": []
  }
 ],
 "metadata": {
  "kernelspec": {
   "display_name": "Python 3 (ipykernel)",
   "language": "python",
   "name": "python3"
  },
  "language_info": {
   "codemirror_mode": {
    "name": "ipython",
    "version": 3
   },
   "file_extension": ".py",
   "mimetype": "text/x-python",
   "name": "python",
   "nbconvert_exporter": "python",
   "pygments_lexer": "ipython3",
   "version": "3.9.7"
  }
 },
 "nbformat": 4,
 "nbformat_minor": 4
}
