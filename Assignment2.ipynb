{
 "cells": [
  {
   "cell_type": "markdown",
   "metadata": {},
   "source": [
    "filtered data: https://jmcauley.ucsd.edu/data/googlelocal/kcore/"
   ]
  },
  {
   "cell_type": "code",
   "execution_count": 21,
   "metadata": {},
   "outputs": [],
   "source": [
    "import gzip\n",
    "from collections import defaultdict"
   ]
  },
  {
   "cell_type": "code",
   "execution_count": 5,
   "metadata": {},
   "outputs": [],
   "source": [
    "def parseData(fname):\n",
    "    for l in gzip.open(fname):\n",
    "        d = eval(l)\n",
    "        yield d"
   ]
  },
  {
   "cell_type": "code",
   "execution_count": 6,
   "metadata": {},
   "outputs": [],
   "source": [
    "#filtering out users with <5 interactions\n",
    "data_CA5 = list(parseData(\"CA_5.json.gz\"))"
   ]
  },
  {
   "cell_type": "code",
   "execution_count": 15,
   "metadata": {},
   "outputs": [
    {
     "data": {
      "text/plain": [
       "{'rating': 4.0,\n",
       " 'reviewerName': 'Mary Gainza',\n",
       " 'reviewText': 'Gap always has a jean that fits awesomely, i wish their prices were a bit competitive in comparison to their outlets, also the amount of the pieces they have in store sometimes fly so quick that is hard to find an specific size with their best sellers, but in general i really like this store and most of their products.',\n",
       " 'categories': ['Clothing Store',\n",
       "  \"Women's Clothing Store\",\n",
       "  \"Children's Clothing Store\"],\n",
       " 'gPlusPlaceId': '100556368174926958612',\n",
       " 'unixReviewTime': 1355436757,\n",
       " 'reviewTime': 'Dec 13, 2012',\n",
       " 'gPlusUserId': '100000715097692381911'}"
      ]
     },
     "execution_count": 15,
     "metadata": {},
     "output_type": "execute_result"
    }
   ],
   "source": [
    "data_CA5[0]"
   ]
  },
  {
   "cell_type": "code",
   "execution_count": 9,
   "metadata": {},
   "outputs": [],
   "source": [
    "# filtering out users with <10 interactions, subset of CA_5\n",
    "# only users with 10 or more interactions\n",
    "data_CA10 = list(parseData('CA_10.json.gz'))"
   ]
  },
  {
   "cell_type": "code",
   "execution_count": 16,
   "metadata": {},
   "outputs": [
    {
     "data": {
      "text/plain": [
       "{'rating': 4.0,\n",
       " 'reviewerName': 'Rick Casady',\n",
       " 'reviewText': None,\n",
       " 'categories': ['Sushi Restaurant', 'Asian Restaurant', 'Japanese Restaurant'],\n",
       " 'gPlusPlaceId': '100539657974695665920',\n",
       " 'unixReviewTime': 1302881457,\n",
       " 'reviewTime': 'Apr 15, 2011',\n",
       " 'gPlusUserId': '100003840837471130074'}"
      ]
     },
     "execution_count": 16,
     "metadata": {},
     "output_type": "execute_result"
    }
   ],
   "source": [
    "data_CA10[0]"
   ]
  },
  {
   "cell_type": "code",
   "execution_count": 17,
   "metadata": {},
   "outputs": [],
   "source": [
    "places_CA = list(parseData('places_CA.json.gz'))"
   ]
  },
  {
   "cell_type": "code",
   "execution_count": 19,
   "metadata": {},
   "outputs": [],
   "source": [
    "reviews_CA = list(parseData('reviews_CA.json.gz'))"
   ]
  },
  {
   "cell_type": "code",
   "execution_count": 20,
   "metadata": {},
   "outputs": [
    {
     "name": "stdout",
     "output_type": "stream",
     "text": [
      "163408 76967 171271 778552\n"
     ]
    }
   ],
   "source": [
    "print(len(data_CA5),len(data_CA10),len(places_CA),len(reviews_CA))"
   ]
  },
  {
   "cell_type": "code",
   "execution_count": 28,
   "metadata": {},
   "outputs": [
    {
     "data": {
      "text/plain": [
       "{'name': 'Diamond Valley Lake Marina',\n",
       " 'price': None,\n",
       " 'address': ['2615 Angler Ave', 'Hemet, CA 92545'],\n",
       " 'hours': [['Monday', [['6:30 am--4:15 pm']]],\n",
       "  ['Tuesday', [['6:30 am--4:15 pm']]],\n",
       "  ['Wednesday', [['6:30 am--4:15 pm']], 1],\n",
       "  ['Thursday', [['6:30 am--4:15 pm']]],\n",
       "  ['Friday', [['6:30 am--4:15 pm']]],\n",
       "  ['Saturday', [['6:30 am--4:15 pm']]],\n",
       "  ['Sunday', [['6:30 am--4:15 pm']]]],\n",
       " 'phone': '(951) 926-7201',\n",
       " 'closed': False,\n",
       " 'gPlusPlaceId': '104699454385822125632',\n",
       " 'gps': [33.703804, -117.003209]}"
      ]
     },
     "execution_count": 28,
     "metadata": {},
     "output_type": "execute_result"
    }
   ],
   "source": [
    "places_CA[0]"
   ]
  },
  {
   "cell_type": "code",
   "execution_count": 35,
   "metadata": {},
   "outputs": [
    {
     "data": {
      "text/plain": [
       "{'', '$', '$$', '$$$', None}"
      ]
     },
     "execution_count": 35,
     "metadata": {},
     "output_type": "execute_result"
    }
   ],
   "source": [
    "count = set()\n",
    "count1 = 0\n",
    "count2 = 0\n",
    "count3 = 0\n",
    "count4 = 0\n",
    "count5 = 0\n",
    "for i in places_CA:\n",
    "    count.add(i['price'])\n",
    "    if i['price'] == '':\n",
    "        count1 +=1\n",
    "    if i['price'] == None:\n",
    "        count2 +=1\n",
    "    if i['price'] == '$':\n",
    "        count3 +=1\n",
    "    if i['price'] == '$$':\n",
    "        count4 +=1\n",
    "    if i['price'] == '$$$':\n",
    "        count5 +=1\n",
    "count"
   ]
  },
  {
   "cell_type": "code",
   "execution_count": 36,
   "metadata": {},
   "outputs": [
    {
     "data": {
      "text/plain": [
       "[197, 124356, 2068, 23954, 20696]"
      ]
     },
     "execution_count": 36,
     "metadata": {},
     "output_type": "execute_result"
    }
   ],
   "source": [
    "[count1,count2,count3,count4,count5]"
   ]
  },
  {
   "cell_type": "markdown",
   "metadata": {},
   "source": [
    "**EDA**<br />\n",
    "1) distribution of reviews across time of day (David)<br />\n",
    "2) categories for businesses (Andrew)<br />\n",
    "3) distribution across years/months (David)<br />\n",
    "4) distribution of words in review (Andrew)<br />\n",
    "5) (Maricela) come up with something else?"
   ]
  },
  {
   "cell_type": "markdown",
   "metadata": {},
   "source": [
    "**Baseline Model**: Predict the average every time and compute MSE [with and without rounding] (Andrew)<br /> \n",
    "**Ablation Experiment**: to determine feature importance<br />\n",
    "    or Principal Component Analysis<br />\n",
    "Look at Prof's paper from this dataset"
   ]
  },
  {
   "cell_type": "markdown",
   "metadata": {},
   "source": [
    "Random Ideas:\n",
    "1) Naive Bayes?"
   ]
  },
  {
   "cell_type": "markdown",
   "metadata": {},
   "source": [
    "**Location Based Social Networks?**<br />\n",
    "(David)"
   ]
  },
  {
   "cell_type": "code",
   "execution_count": null,
   "metadata": {},
   "outputs": [],
   "source": []
  },
  {
   "cell_type": "markdown",
   "metadata": {},
   "source": [
    "**Temporal Dynamics**<br />\n",
    "(David)<br />\n",
    "Tensorflow FPMC model"
   ]
  },
  {
   "cell_type": "code",
   "execution_count": null,
   "metadata": {},
   "outputs": [],
   "source": []
  },
  {
   "cell_type": "markdown",
   "metadata": {},
   "source": [
    "**Price?**<br />\n",
    "(Andrew)<br />\n",
    "One-Hot Encoding"
   ]
  },
  {
   "cell_type": "code",
   "execution_count": null,
   "metadata": {},
   "outputs": [],
   "source": []
  },
  {
   "cell_type": "markdown",
   "metadata": {},
   "source": [
    "**Text Analysis?**<br />\n",
    "(Maricela)<br />\n",
    "TfIdf?"
   ]
  },
  {
   "cell_type": "code",
   "execution_count": null,
   "metadata": {},
   "outputs": [],
   "source": []
  },
  {
   "cell_type": "markdown",
   "metadata": {},
   "source": [
    "**Cosine Feature**<br />\n",
    "(Andrew)"
   ]
  },
  {
   "cell_type": "code",
   "execution_count": null,
   "metadata": {},
   "outputs": [],
   "source": []
  },
  {
   "cell_type": "code",
   "execution_count": null,
   "metadata": {},
   "outputs": [],
   "source": [
    "#Train-Validation-Validation (65%-20%-15%)\n",
    "#compare MSE, look into F1?, or other model measurements"
   ]
  },
  {
   "cell_type": "markdown",
   "metadata": {},
   "source": [
    "Linear Regression Model<br />\n",
    "Decision Tree Regression/Classification<br />\n",
    "SVD<br />\n",
    "K-Nearest Neighbors<br />\n",
    "Other Models?"
   ]
  },
  {
   "cell_type": "markdown",
   "metadata": {},
   "source": [
    "Evaluating Overfitting<br />\n",
    "test on both CA_5 and CA_10"
   ]
  },
  {
   "cell_type": "code",
   "execution_count": null,
   "metadata": {},
   "outputs": [],
   "source": []
  }
 ],
 "metadata": {
  "kernelspec": {
   "display_name": "Python 3",
   "language": "python",
   "name": "python3"
  },
  "language_info": {
   "codemirror_mode": {
    "name": "ipython",
    "version": 3
   },
   "file_extension": ".py",
   "mimetype": "text/x-python",
   "name": "python",
   "nbconvert_exporter": "python",
   "pygments_lexer": "ipython3",
   "version": "3.8.5"
  }
 },
 "nbformat": 4,
 "nbformat_minor": 4
}
